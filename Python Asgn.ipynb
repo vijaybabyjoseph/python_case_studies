{
 "cells": [
  {
   "cell_type": "code",
   "execution_count": 1,
   "metadata": {},
   "outputs": [
    {
     "name": "stdout",
     "output_type": "stream",
     "text": [
      "Enter a Number25\n",
      "Square is 5.0\n"
     ]
    }
   ],
   "source": [
    "#Write a program find square root of a number.\n",
    "import math\n",
    "num = int(input(\"Enter a Number\"))\n",
    "sqr = math.sqrt(num)\n",
    "print(\"Square is\" , sqr)"
   ]
  },
  {
   "cell_type": "code",
   "execution_count": 2,
   "metadata": {},
   "outputs": [
    {
     "name": "stdout",
     "output_type": "stream",
     "text": [
      "Enter base12\n",
      "Enter height6\n",
      "Area of Triangle is  36.0\n"
     ]
    }
   ],
   "source": [
    "#Python Program to find the area of triangle\n",
    "import math\n",
    "base = int(input(\"Enter base\"))\n",
    "height = int(input(\"Enter height\"))\n",
    "area = (1/2)*base*height\n",
    "print(\"Area of Triangle is \", area)"
   ]
  },
  {
   "cell_type": "code",
   "execution_count": 3,
   "metadata": {},
   "outputs": [
    {
     "name": "stdout",
     "output_type": "stream",
     "text": [
      "Enter a25\n",
      "Enter b35\n",
      "New a is: 35 New b is: 25\n"
     ]
    }
   ],
   "source": [
    "#Python program to swap two variables provided by the user without temporary variable\n",
    "import math \n",
    "a = int(input(\"Enter a\"))\n",
    "b = int(input(\"Enter b\"))\n",
    "a = a+b \n",
    "b = a-b\n",
    "a = a-b\n",
    "print(\"New a is:\",a, \"New b is:\",b)"
   ]
  },
  {
   "cell_type": "code",
   "execution_count": 6,
   "metadata": {},
   "outputs": [
    {
     "name": "stdout",
     "output_type": "stream",
     "text": [
      "Enter Year: 2018\n",
      "Year is not a Leap Year\n"
     ]
    }
   ],
   "source": [
    "#Python program to check if the input year is a leap year or not\n",
    "year = int(input(\"Enter Year: \"))\n",
    "if year%4==0:\n",
    "    print(\"Year is Leap year\")\n",
    "else:\n",
    "    print(\"Year is not a Leap Year\")"
   ]
  },
  {
   "cell_type": "code",
   "execution_count": 10,
   "metadata": {},
   "outputs": [
    {
     "name": "stdout",
     "output_type": "stream",
     "text": [
      "Enter the nth Term5\n",
      "Fibinacci Sequence upto 5 ;\n",
      "0\n",
      "1\n",
      "1\n",
      "2\n",
      "3\n"
     ]
    }
   ],
   "source": [
    "#Program to display the Fibonacci sequence up to n-th term where n is provided by the user\n",
    "\n",
    "\n",
    "x = int(input(\"Enter the nth Term\"))\n",
    "n1 = 0 \n",
    "n2 = 1\n",
    "count = 0\n",
    "if x <=0:\n",
    "    print(\"Please enter a positive number\")\n",
    "elif x == 1:\n",
    "    print(\"Fibonacci sequence upto\",x,\":\")\n",
    "    print(n1)\n",
    "else:\n",
    "    print(\"Fibinacci Sequence upto\",x,\";\")\n",
    "    while count <x:\n",
    "        print(n1)\n",
    "        nth = n1+n2\n",
    "        n1 = n2\n",
    "        n2 = nth\n",
    "        count = count+1\n"
   ]
  },
  {
   "cell_type": "code",
   "execution_count": 5,
   "metadata": {},
   "outputs": [
    {
     "name": "stdout",
     "output_type": "stream",
     "text": [
      "Please enter a Number: 153\n",
      "No is Armstrong\n"
     ]
    }
   ],
   "source": [
    "#Python program to check if the number provided by the user is an Armstrong number or not\n",
    "num = int(input(\"Please enter a Number: \"))\n",
    "s = 0\n",
    "temp = num\n",
    "while temp%10>0:\n",
    "    digit = temp %10\n",
    "    s = s + digit**3\n",
    "    temp = temp//10\n",
    "if s==num:\n",
    "    print(\"No is Armstrong\")\n",
    "else:\n",
    "    print(\"Number is not Armstrong\")\n",
    "    \n",
    "    "
   ]
  },
  {
   "cell_type": "code",
   "execution_count": 6,
   "metadata": {},
   "outputs": [
    {
     "name": "stdout",
     "output_type": "stream",
     "text": [
      "List till the power of: 5\n",
      "[1, 2, 4, 8, 16]\n"
     ]
    }
   ],
   "source": [
    "#Python Program to display the powers of 2 using anonymous function\n",
    "n = int(input(\"List till the power of: \"))\n",
    "result = map(lambda x: 2**x, range(n))\n",
    "print(list(result))"
   ]
  },
  {
   "cell_type": "code",
   "execution_count": null,
   "metadata": {},
   "outputs": [],
   "source": []
  }
 ],
 "metadata": {
  "kernelspec": {
   "display_name": "Python 3",
   "language": "python",
   "name": "python3"
  },
  "language_info": {
   "codemirror_mode": {
    "name": "ipython",
    "version": 3
   },
   "file_extension": ".py",
   "mimetype": "text/x-python",
   "name": "python",
   "nbconvert_exporter": "python",
   "pygments_lexer": "ipython3",
   "version": "3.6.4"
  }
 },
 "nbformat": 4,
 "nbformat_minor": 2
}
